{
 "cells": [
  {
   "cell_type": "code",
   "execution_count": 2,
   "id": "ffb47c04-ae50-4d00-aa61-a55debbc10a9",
   "metadata": {},
   "outputs": [],
   "source": [
    "#config\n",
    "bank_name=\"Laxmi Chit Fund Bank\"\n",
    "branch_name=\"Panvel\"\n",
    "width=50\n",
    "max_retry=3\n"
   ]
  },
  {
   "cell_type": "code",
   "execution_count": 3,
   "id": "8d937822-54b6-4503-8ff3-f1562b16985e",
   "metadata": {},
   "outputs": [],
   "source": [
    "#global variable\n",
    "bank_db={}\n",
    "account_number = 1000"
   ]
  },
  {
   "cell_type": "code",
   "execution_count": 4,
   "id": "efb63687-d3a9-4939-9f7f-8292a2c95ecc",
   "metadata": {},
   "outputs": [],
   "source": [
    "#error messages\n",
    "err_101=\"INVALID INPUT\"\n",
    "err_102=\"MAX RETRIES OVER\""
   ]
  },
  {
   "cell_type": "code",
   "execution_count": 5,
   "id": "b3b147d1-7c93-4835-adda-c1e7fc40160b",
   "metadata": {},
   "outputs": [],
   "source": [
    "#logic\n",
    "def print_header(mesg=None):\n",
    "    head=\"-\" * width\n",
    "    print(f\"{head} \\n {bank_name.center(50)} \\n {head}\")\n",
    "    if mesg:\n",
    "        print(mesg.center(width))\n",
    "    print(head)\n",
    "\n",
    "def user_input(mesg,max_exp_value):\n",
    "    for i in range(max_retry):\n",
    "        ch=int(input(mesg))\n",
    "        if ch in range(1,max_exp_value+1):\n",
    "            return ch\n",
    "        else:\n",
    "            print(err_101)\n",
    "    print(err_102)\n",
    "    return False\n",
    "\n",
    "def first_screen():\n",
    "    a=\"--------HOME PAGE-------\"\n",
    "    print(a.center(width))\n",
    "    print('1) Create Account \\n2) Login \\n3) Exit')\n",
    "    return user_input(\"Enter your choice\" , 3)\n",
    "\n",
    "def get_account_number():\n",
    "    global account_number\n",
    "    account_number=account_number+1\n",
    "    return account_number \n",
    "\n",
    "def create_account():\n",
    "    global bank_db\n",
    "    name=input(\"Enter your name :\")\n",
    "    city=input(\"Enter your city :\")\n",
    "    password=input(\"Enter your password : \")\n",
    "    acc_no = get_account_number()\n",
    "    bank_db[acc_no]={'name':name , 'city':city , 'balance':0 , 'password':password}\n",
    "    print(f\"Congratulations {name} Your Account Has Been Succesfully Created !!  Acc No : {account_number} \")\n",
    "\n",
    "def validate_cred():\n",
    "    print_header(\"LOGIN SCREEN\")\n",
    "    for i in range(max_retry):\n",
    "        acc_no=int(input(\"Enter you acc number : \"))\n",
    "        pas=input(\"Enter your pass : \") \n",
    "        if acc_no in bank_db and bank_db[acc_no]['password']==pas:\n",
    "            print(\"Login succesfull\")\n",
    "            return acc_no\n",
    "        else:\n",
    "            print(\"Invalid Credentials !!\")\n",
    "    print(err_102)\n",
    "    return False\n",
    "\n",
    "def logged_inscreen(ano):\n",
    "    print(\"----------------LOGIN DASHBOARD----------------\")\n",
    "    custname=bank_db[ano]['name']\n",
    "    print(f\"Welcome {custname} To Laxmi Chit Fund Ek ka Double\")\n",
    "    print(\" 1) Deposit \\n 2) Withdraw \\n 3) Check balance \\n 4) Logout\")\n",
    "    return user_input(\"Enter Your Choice\", 4 )\n",
    "\n",
    "def deposit(ano):\n",
    "    amt=int(input(\"Enter amount to deposit : \"))\n",
    "    bank_db[ano][\"balance\"]+=amt\n",
    "    print(f\"{amt} has been Succesfully Deposit\")\n",
    "    \n",
    "\n",
    "def withdrawl(ano):\n",
    "    amt=int(input('Enter Amount To Withdraw : '))\n",
    "    if amt<=bank_db[ano]['balance']:\n",
    "        bank_db[ano]['balance']-=amt\n",
    "        print(f\"{amt} Has been Successfully withdrawn\")\n",
    "    else:\n",
    "        print(\"Insufficient Balance\")\n",
    "        \n",
    "def check_balance(ano):\n",
    "    print(f\"Your Account Balance is {bank_db[ano]['balance']}\")\n",
    "\n",
    "def login_flow(ano):\n",
    "   while True: \n",
    "        ch=logged_inscreen(ano)\n",
    "        if ch==1:\n",
    "            deposit(ano)\n",
    "        elif ch==2:\n",
    "            withdrawl(ano) \n",
    "        elif ch==3:\n",
    "            check_balance(ano)\n",
    "        elif ch==4:\n",
    "            print(\"LOGGED OUT SUCCESSFULLY \")\n",
    "            first_screen()\n",
    "            break\n",
    "            \n",
    "        else:\n",
    "            print(error_101)\n",
    "    \n"
   ]
  },
  {
   "cell_type": "code",
   "execution_count": 6,
   "id": "973e86c0-6177-4898-b1d6-3666600bf93f",
   "metadata": {},
   "outputs": [],
   "source": [
    "#main server\n",
    "def main():\n",
    "    print_header(\"Welcome To Our Laxmi Chit Funds EK ka Double Bank!\")\n",
    "    for i in range(max_retry):\n",
    "        ch=first_screen()\n",
    "        if ch==1:\n",
    "            create_account()\n",
    "        elif ch==2:\n",
    "            d=validate_cred()\n",
    "            if d:\n",
    "                login_flow(d)\n",
    "\n",
    "        elif ch==3:\n",
    "            print(\"Thanks for Banking with us\")\n",
    "            break\n",
    "            \n",
    "        else: \n",
    "            pass\n",
    "            \n",
    "            \n",
    "        \n",
    "    \n"
   ]
  },
  {
   "cell_type": "code",
   "execution_count": 7,
   "id": "d08b2061-9168-4b1f-8ab8-5e8c9acd8dff",
   "metadata": {},
   "outputs": [
    {
     "name": "stdout",
     "output_type": "stream",
     "text": [
      "-------------------------------------------------- \n",
      "                Laxmi Chit Fund Bank                \n",
      " --------------------------------------------------\n",
      "Welcome To Our Laxmi Chit Funds EK ka Double Bank!\n",
      "--------------------------------------------------\n",
      "             --------HOME PAGE-------             \n",
      "1) Create Account \n",
      "2) Login \n",
      "3) Exit\n"
     ]
    },
    {
     "name": "stdout",
     "output_type": "stream",
     "text": [
      "Enter your choice 1\n",
      "Enter your name : Pravin Gaikwad \n",
      "Enter your city : Pune\n",
      "Enter your password :  1234\n"
     ]
    },
    {
     "name": "stdout",
     "output_type": "stream",
     "text": [
      "Congratulations Pravin Gaikwad  Your Account Has Been Succesfully Created !!  Acc No : 1001 \n",
      "             --------HOME PAGE-------             \n",
      "1) Create Account \n",
      "2) Login \n",
      "3) Exit\n"
     ]
    },
    {
     "name": "stdout",
     "output_type": "stream",
     "text": [
      "Enter your choice 2\n"
     ]
    },
    {
     "name": "stdout",
     "output_type": "stream",
     "text": [
      "-------------------------------------------------- \n",
      "                Laxmi Chit Fund Bank                \n",
      " --------------------------------------------------\n",
      "                   LOGIN SCREEN                   \n",
      "--------------------------------------------------\n"
     ]
    },
    {
     "name": "stdout",
     "output_type": "stream",
     "text": [
      "Enter you acc number :  1001\n",
      "Enter your pass :  1234\n"
     ]
    },
    {
     "name": "stdout",
     "output_type": "stream",
     "text": [
      "Login succesfull\n",
      "----------------LOGIN DASHBOARD----------------\n",
      "Welcome Pravin Gaikwad  To Laxmi Chit Fund Ek ka Double\n",
      " 1) Deposit \n",
      " 2) Withdraw \n",
      " 3) Check balance \n",
      " 4) Logout\n"
     ]
    },
    {
     "name": "stdout",
     "output_type": "stream",
     "text": [
      "Enter Your Choice 1\n",
      "Enter amount to deposit :  100000\n"
     ]
    },
    {
     "name": "stdout",
     "output_type": "stream",
     "text": [
      "100000 has been Succesfully Deposit\n",
      "----------------LOGIN DASHBOARD----------------\n",
      "Welcome Pravin Gaikwad  To Laxmi Chit Fund Ek ka Double\n",
      " 1) Deposit \n",
      " 2) Withdraw \n",
      " 3) Check balance \n",
      " 4) Logout\n"
     ]
    },
    {
     "name": "stdout",
     "output_type": "stream",
     "text": [
      "Enter Your Choice 2\n",
      "Enter Amount To Withdraw :  50000\n"
     ]
    },
    {
     "name": "stdout",
     "output_type": "stream",
     "text": [
      "50000 Has been Successfully withdrawn\n",
      "----------------LOGIN DASHBOARD----------------\n",
      "Welcome Pravin Gaikwad  To Laxmi Chit Fund Ek ka Double\n",
      " 1) Deposit \n",
      " 2) Withdraw \n",
      " 3) Check balance \n",
      " 4) Logout\n"
     ]
    },
    {
     "name": "stdout",
     "output_type": "stream",
     "text": [
      "Enter Your Choice 3\n"
     ]
    },
    {
     "name": "stdout",
     "output_type": "stream",
     "text": [
      "Your Account Balance is 50000\n",
      "----------------LOGIN DASHBOARD----------------\n",
      "Welcome Pravin Gaikwad  To Laxmi Chit Fund Ek ka Double\n",
      " 1) Deposit \n",
      " 2) Withdraw \n",
      " 3) Check balance \n",
      " 4) Logout\n"
     ]
    },
    {
     "name": "stdout",
     "output_type": "stream",
     "text": [
      "Enter Your Choice 4\n"
     ]
    },
    {
     "name": "stdout",
     "output_type": "stream",
     "text": [
      "LOGGED OUT SUCCESSFULLY \n",
      "             --------HOME PAGE-------             \n",
      "1) Create Account \n",
      "2) Login \n",
      "3) Exit\n"
     ]
    },
    {
     "name": "stdout",
     "output_type": "stream",
     "text": [
      "Enter your choice 3\n"
     ]
    },
    {
     "name": "stdout",
     "output_type": "stream",
     "text": [
      "             --------HOME PAGE-------             \n",
      "1) Create Account \n",
      "2) Login \n",
      "3) Exit\n"
     ]
    },
    {
     "name": "stdout",
     "output_type": "stream",
     "text": [
      "Enter your choice 3\n"
     ]
    },
    {
     "name": "stdout",
     "output_type": "stream",
     "text": [
      "Thanks for Banking with us\n"
     ]
    }
   ],
   "source": [
    "#execution\n",
    "main()"
   ]
  },
  {
   "cell_type": "code",
   "execution_count": null,
   "id": "0c4df661-adf9-4f4a-87bc-cd2858a47edc",
   "metadata": {},
   "outputs": [],
   "source": []
  },
  {
   "cell_type": "code",
   "execution_count": null,
   "id": "a35a4c72-c6f8-4ee9-a73d-96407304a7b1",
   "metadata": {},
   "outputs": [],
   "source": []
  }
 ],
 "metadata": {
  "kernelspec": {
   "display_name": "Python 3 (ipykernel)",
   "language": "python",
   "name": "python3"
  },
  "language_info": {
   "codemirror_mode": {
    "name": "ipython",
    "version": 3
   },
   "file_extension": ".py",
   "mimetype": "text/x-python",
   "name": "python",
   "nbconvert_exporter": "python",
   "pygments_lexer": "ipython3",
   "version": "3.11.0"
  }
 },
 "nbformat": 4,
 "nbformat_minor": 5
}
